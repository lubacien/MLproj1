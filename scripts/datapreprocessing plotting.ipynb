{
 "cells": [
  {
   "cell_type": "markdown",
   "metadata": {},
   "source": [
    "## Plotting accuracy with different degrees of polynomial expansion"
   ]
  },
  {
   "cell_type": "code",
   "execution_count": 2,
   "metadata": {},
   "outputs": [
    {
     "name": "stdout",
     "output_type": "stream",
     "text": [
      "loading data\n",
      "\n",
      "data loaded\n",
      "0\n",
      "test error = 0.340493767839\n",
      "train error = 0.340401434674\n",
      "accuracy =  0.744356 0.00187076027326\n"
     ]
    },
    {
     "ename": "ValueError",
     "evalue": "cannot copy sequence with size 5 to array axis with dimension 4",
     "output_type": "error",
     "traceback": [
      "\u001b[0;31m---------------------------------------------------------------------------\u001b[0m",
      "\u001b[0;31mValueError\u001b[0m                                Traceback (most recent call last)",
      "\u001b[0;32m<ipython-input-2-6af80b346113>\u001b[0m in \u001b[0;36m<module>\u001b[0;34m()\u001b[0m\n\u001b[1;32m     22\u001b[0m \u001b[0;34m\u001b[0m\u001b[0m\n\u001b[1;32m     23\u001b[0m     \u001b[0macc\u001b[0m\u001b[0;34m,\u001b[0m \u001b[0mtestloss\u001b[0m\u001b[0;34m,\u001b[0m \u001b[0mtrainloss\u001b[0m\u001b[0;34m,\u001b[0m \u001b[0mweights\u001b[0m \u001b[0;34m=\u001b[0m \u001b[0mcross_validation_for_leastsquares\u001b[0m\u001b[0;34m(\u001b[0m\u001b[0my\u001b[0m\u001b[0;34m,\u001b[0m \u001b[0mtX\u001b[0m\u001b[0;34m,\u001b[0m \u001b[0mdeg\u001b[0m\u001b[0;34m)\u001b[0m\u001b[0;34m\u001b[0m\u001b[0;34m\u001b[0m\u001b[0m\n\u001b[0;32m---> 24\u001b[0;31m     \u001b[0maccs\u001b[0m\u001b[0;34m[\u001b[0m\u001b[0;34m:\u001b[0m\u001b[0;34m,\u001b[0m\u001b[0mdeg\u001b[0m\u001b[0;34m-\u001b[0m\u001b[0;36m1\u001b[0m\u001b[0;34m]\u001b[0m\u001b[0;34m=\u001b[0m\u001b[0macc\u001b[0m\u001b[0;34m\u001b[0m\u001b[0;34m\u001b[0m\u001b[0m\n\u001b[0m\u001b[1;32m     25\u001b[0m \u001b[0;34m\u001b[0m\u001b[0m\n",
      "\u001b[0;31mValueError\u001b[0m: cannot copy sequence with size 5 to array axis with dimension 4"
     ]
    }
   ],
   "source": [
    "import numpy as np\n",
    "from implementations import *\n",
    "from cross_validation import *\n",
    "from data_preprocessing import *\n",
    "from proj1_helpers import *\n",
    "import matplotlib.pyplot as plt\n",
    "import math\n",
    "\n",
    "print('loading data'+\"\\n\")\n",
    "DATA_TEST_PATH = '../data/train.csv'\n",
    "y,tX,ids = load_csv_data(DATA_TEST_PATH)\n",
    "print('data loaded')\n",
    "\n",
    "tX=replace_aberrant_values(tX)\n",
    "tX=kill_correlation(tX,0.95)\n",
    "tX,mean,stdev= standardize(tX)\n",
    "accs=np.empty((4,9))\n",
    "\n",
    "degree = np.linspace(1,9,num=9,dtype=int)\n",
    "for deg in degree:\n",
    "    print(deg-1)\n",
    "\n",
    "    acc, testloss, trainloss, weights = cross_validation_for_leastsquares(y, tX, deg)\n",
    "    accs[:,deg-1]=acc\n",
    "    "
   ]
  },
  {
   "cell_type": "code",
   "execution_count": 41,
   "metadata": {},
   "outputs": [
    {
     "data": {
      "image/png": "[encoded data removed]",
      "text/plain": [
       "<matplotlib.figure.Figure at 0x111cfc438>"
      ]
     },
     "metadata": {},
     "output_type": "display_data"
    }
   ],
   "source": [
    "fig1, ax1 = plt.subplots()\n",
    "\n",
    "ax1.boxplot(accs)\n",
    "plt.show()\n"
   ]
  },
  {
   "cell_type": "markdown",
   "metadata": {},
   "source": [
    "## Splitting data before polynomial expansion"
   ]
  },
  {
   "cell_type": "code",
   "execution_count": 4,
   "metadata": {},
   "outputs": [
    {
     "name": "stdout",
     "output_type": "stream",
     "text": [
      "loading data\n",
      "\n",
      "data loaded\n",
      "(99913, 17)\n",
      "0\n",
      "test error = 0.272348016017\n",
      "train error = 0.27212168776\n",
      "accuracy =  0.816594935442 0.00258658797801\n",
      "1\n",
      "test error = 3.19252531803\n",
      "train error = 0.252431442888\n",
      "accuracy =  0.825663096787 0.00387797078406\n",
      "2\n",
      "test error = 1.10203186924\n",
      "train error = 0.24443858267\n",
      "accuracy =  0.829686718046 0.00299725927089\n",
      "3\n",
      "test error = 34179422.732\n",
      "train error = 0.241024145617\n",
      "accuracy =  0.832529276349 0.00364121607141\n",
      "4\n",
      "test error = 748330383738.0\n",
      "train error = 0.238078578536\n",
      "accuracy =  0.836933239916 0.00455234952621\n",
      "5\n",
      "test error = 1.01657528657e+15\n",
      "train error = 4.20984557271\n",
      "accuracy =  0.583385046542 0.243704825492\n",
      "6\n",
      "test error = 3.36472843183e+17\n",
      "train error = 319.094075915\n",
      "accuracy =  0.457291562406 0.217449783248\n",
      "7\n",
      "test error = 2.79342025529e+22\n",
      "train error = 91273.2404945\n",
      "accuracy =  0.582224001601 0.239092744157\n",
      "8\n",
      "test error = 1.64885789703e+27\n",
      "train error = 270279.007293\n",
      "accuracy =  0.751166049445 0.055124119422\n",
      "9\n",
      "test error = 1.63127698991e+30\n",
      "train error = 7606.20279224\n",
      "accuracy =  0.508347512761 0.245493015912\n",
      "10\n",
      "test error = 6.71740199658e+34\n",
      "train error = 3931450.31011\n",
      "accuracy =  0.6376538885 0.110703451304\n",
      "11\n",
      "test error = 1.78596620357e+36\n",
      "train error = 1355372169.44\n",
      "accuracy =  0.546451806626 0.0847109336721\n",
      "12\n",
      "test error = 1.8490552335e+44\n",
      "train error = 1.68676456298e+12\n",
      "accuracy =  0.542077870083 0.0866240325973\n",
      "(77544, 21)\n",
      "0\n",
      "test error = 0.37295893747\n",
      "train error = 0.37262897505\n",
      "accuracy =  0.710278565901 0.00236960207952\n",
      "1\n",
      "test error = 0.340042044476\n",
      "train error = 0.338904328351\n",
      "accuracy =  0.756112973949 0.0014593082445\n",
      "2\n",
      "test error = 0.333535406446\n",
      "train error = 0.329551779015\n",
      "accuracy =  0.764856848078 0.00184407415663\n",
      "3\n",
      "test error = 0.334557967773\n",
      "train error = 0.322174455215\n",
      "accuracy =  0.775973690998 0.00158968202791\n",
      "4\n",
      "test error = 0.325865513641\n",
      "train error = 0.317912592026\n",
      "accuracy =  0.779713696157 0.00252074329996\n",
      "5\n",
      "test error = 0.34292165579\n",
      "train error = 0.313127686019\n",
      "accuracy =  0.783711632706 0.00273802401833\n",
      "6\n",
      "test error = 1.86369012744\n",
      "train error = 0.306000121009\n",
      "accuracy =  0.791475367552 0.00132991085649\n",
      "7\n",
      "test error = 14.5995208845\n",
      "train error = 0.298493923513\n",
      "accuracy =  0.798620067062 0.00144821068235\n",
      "8\n",
      "test error = 72.1899281115\n",
      "train error = 0.294661702812\n",
      "accuracy =  0.801405726077 0.0018845767222\n",
      "9\n",
      "test error = 31.619858201\n",
      "train error = 0.293075269992\n",
      "accuracy =  0.801134898117 0.00177673356712\n",
      "10\n",
      "test error = 2120.15460733\n",
      "train error = 0.290648103044\n",
      "accuracy =  0.802140830539 0.00197473390884\n",
      "11\n",
      "test error = 67512.3918781\n",
      "train error = 15.5933865044\n",
      "accuracy =  0.650722207893 0.0939255360256\n",
      "12\n",
      "test error = 491763.482323\n",
      "train error = 326.372181846\n",
      "accuracy =  0.489295847305 0.0605492221814\n",
      "(72543, 28)\n",
      "0\n",
      "test error = 0.363240781796\n",
      "train error = 0.362837914976\n",
      "accuracy =  0.730148883375 0.00327358405031\n",
      "1\n",
      "test error = 0.331350432603\n",
      "train error = 0.33010286685\n",
      "accuracy =  0.769272125724 0.00297095865253\n",
      "2\n",
      "test error = 0.313414336027\n",
      "train error = 0.310842338703\n",
      "accuracy =  0.790653432589 0.00235945548114\n",
      "3\n",
      "test error = 0.309741599035\n",
      "train error = 0.302402635249\n",
      "accuracy =  0.801571546733 0.00187725883987\n",
      "4\n",
      "test error = 0.314393846259\n",
      "train error = 0.299423623461\n",
      "accuracy =  0.803005238489 0.00247947418646\n",
      "5\n",
      "test error = 0.654942822697\n",
      "train error = 0.294550235973\n",
      "accuracy =  0.804328646264 0.00225947628878\n",
      "6\n",
      "test error = 0.797891401613\n",
      "train error = 0.282805465024\n",
      "accuracy =  0.812751585332 0.00206027479374\n",
      "7\n",
      "test error = 20.349700378\n",
      "train error = 0.271198148866\n",
      "accuracy =  0.823063137579 0.0017256668126\n",
      "8\n",
      "test error = 168.25828629\n",
      "train error = 0.266188804568\n",
      "accuracy =  0.826867934932 0.00198118273695\n",
      "9\n",
      "test error = 124.123748874\n",
      "train error = 0.265766223002\n",
      "accuracy =  0.826964433416 0.00187127657985\n",
      "10\n",
      "test error = 93691.61798\n",
      "train error = 0.328329868807\n",
      "accuracy =  0.782271850014 0.0709223514956\n",
      "11\n",
      "test error = 9079326.44206\n",
      "train error = 245.437149075\n",
      "accuracy =  0.51123518059 0.0505565718184\n",
      "12\n",
      "test error = 142627029.3\n",
      "train error = 126.791280024\n",
      "accuracy =  0.556865177833 0.0196443099754\n"
     ]
    }
   ],
   "source": [
    "print('loading data'+\"\\n\")\n",
    "DATA_TEST_PATH = '../data/train.csv'\n",
    "y,tX,ids = load_csv_data(DATA_TEST_PATH)\n",
    "print('data loaded')\n",
    "\n",
    "\n",
    "maxdegree=13\n",
    "\n",
    "accs=np.empty((3,5,maxdegree))\n",
    "trainlosses=np.empty((3,5,maxdegree))\n",
    "\n",
    "jet_tX = jet(tX)\n",
    "\n",
    "\n",
    "means=[]\n",
    "devs=[]\n",
    "degree = np.linspace(1,maxdegree,num=maxdegree,dtype=int)\n",
    "#cleans -999 and standardizes\n",
    "for i in range(len(jet_tX)):\n",
    "    #preprocess every train subset\n",
    "    preprocessed_tX = preprocess_data(tX[jet_tX[i]])\n",
    "    print(preprocessed_tX.shape)\n",
    "    for deg in degree:\n",
    "        print(deg-1)\n",
    "        acc, testloss, trainloss, weights = cross_validation_for_leastsquares(y[jet_tX[i]], preprocessed_tX, deg)\n",
    "        accs[i,:,deg-1]=acc\n",
    "        trainlosses[i,:,deg-1]=trainloss\n"
   ]
  },
  {
   "cell_type": "code",
   "execution_count": 25,
   "metadata": {},
   "outputs": [
    {
     "name": "stdout",
     "output_type": "stream",
     "text": [
      "[[ 0.81387621  0.82188326  0.8052286   0.79389863  0.61478101  0.67339259\n",
      "   0.41364401  0.25694611  0.25674594  0.48294499  0.51597406  0.50912803\n",
      "   0.51165025]\n",
      " [ 0.81375611  0.82116262  0.82460565  0.82740812  0.82632717  0.7271599\n",
      "   0.62362879  0.71226679  0.64957162  0.54071583  0.5050044   0.48702859\n",
      "   0.48694851]\n",
      " [ 0.82224357  0.83001041  0.27876531  0.83593562  0.83433421  0.67014973\n",
      "   0.71110577  0.2503403   0.25226199  0.56349588  0.55252622  0.47998238\n",
      "   0.49039154]\n",
      " [ 0.81659861  0.8305709   0.83309312  0.83913844  0.84322204  0.82368484\n",
      "   0.84029946  0.84382256  0.83813756  0.77267996  0.74025142  0.69076788\n",
      "   0.64668909]]\n"
     ]
    }
   ],
   "source": [
    "#we consider the global accuracy to be the mean of accuracies obtained in each dataset\n",
    "accmeans=np.mean(accs,axis=0)\n",
    "print(accs[0])\n"
   ]
  },
  {
   "cell_type": "code",
   "execution_count": 26,
   "metadata": {},
   "outputs": [
    {
     "data": {
      "image/png": "[encoded data removed]",
      "text/plain": [
       "<matplotlib.figure.Figure at 0x142b52208>"
      ]
     },
     "metadata": {},
     "output_type": "display_data"
    }
   ],
   "source": [
    "fig1, ax1 = plt.subplots()\n",
    "ax1.boxplot(accs[0])\n",
    "plt.show()\n"
   ]
  },
  {
   "cell_type": "code",
   "execution_count": 27,
   "metadata": {},
   "outputs": [
    {
     "data": {
      "image/png": "[encoded data removed]",
      "text/plain": [
       "<matplotlib.figure.Figure at 0x1431bef60>"
      ]
     },
     "metadata": {},
     "output_type": "display_data"
    }
   ],
   "source": [
    "fig1, ax1 = plt.subplots()\n",
    "ax1.boxplot(accs[1])\n",
    "plt.show()"
   ]
  },
  {
   "cell_type": "code",
   "execution_count": 6,
   "metadata": {},
   "outputs": [
    {
     "data": {
      "image/png": "[encoded data removed]",
      "text/plain": [
       "<matplotlib.figure.Figure at 0x112ed2fd0>"
      ]
     },
     "metadata": {},
     "output_type": "display_data"
    }
   ],
   "source": [
    "fig1, ax1 = plt.subplots()\n",
    "ax1.boxplot(accs[2])\n",
    "plt.show()"
   ]
  },
  {
   "cell_type": "code",
   "execution_count": 10,
   "metadata": {},
   "outputs": [
    {
     "name": "stdout",
     "output_type": "stream",
     "text": [
      "[ 1  2  3  4  5  6  7  8  9 10 11]\n",
      "(5, 11)\n"
     ]
    },
    {
     "data": {
      "image/png": "[encoded data removed]",
      "text/plain": [
       "<matplotlib.figure.Figure at 0x13f004eb8>"
      ]
     },
     "metadata": {},
     "output_type": "display_data"
    }
   ],
   "source": [
    "fig1, ax1 = plt.subplots()\n",
    "degreeplt=degree[0:11]\n",
    "print(degreeplt)\n",
    "trainlossplt=trainlosses[1,:,0:11]\n",
    "print(trainlossplt.shape)\n",
    "ax1.plot(degreeplt,np.mean(trainlossplt,axis=0),marker=\".\")\n",
    "plt.show()"
   ]
  },
  {
   "cell_type": "markdown",
   "metadata": {},
   "source": [
    "## Plotting test error and train error for different values of lambda"
   ]
  },
  {
   "cell_type": "code",
   "execution_count": 1,
   "metadata": {},
   "outputs": [
    {
     "name": "stdout",
     "output_type": "stream",
     "text": [
      "loading data\n",
      "\n",
      "data loaded\n"
     ]
    },
    {
     "ename": "KeyboardInterrupt",
     "evalue": "",
     "output_type": "error",
     "traceback": [
      "\u001b[0;31m---------------------------------------------------------------------------\u001b[0m",
      "\u001b[0;31mKeyboardInterrupt\u001b[0m                         Traceback (most recent call last)",
      "\u001b[0;32m<ipython-input-1-41a27fe493c7>\u001b[0m in \u001b[0;36m<module>\u001b[0;34m()\u001b[0m\n\u001b[1;32m     30\u001b[0m \u001b[0;34m\u001b[0m\u001b[0m\n\u001b[1;32m     31\u001b[0m     \u001b[0;32mfor\u001b[0m \u001b[0mj\u001b[0m \u001b[0;32min\u001b[0m \u001b[0mrange\u001b[0m\u001b[0;34m(\u001b[0m\u001b[0mlen\u001b[0m\u001b[0;34m(\u001b[0m\u001b[0mlambdas\u001b[0m\u001b[0;34m)\u001b[0m\u001b[0;34m)\u001b[0m\u001b[0;34m:\u001b[0m\u001b[0;34m\u001b[0m\u001b[0;34m\u001b[0m\u001b[0m\n\u001b[0;32m---> 32\u001b[0;31m         \u001b[0macc\u001b[0m\u001b[0;34m,\u001b[0m \u001b[0mtestloss\u001b[0m\u001b[0;34m,\u001b[0m \u001b[0mtrainloss\u001b[0m\u001b[0;34m,\u001b[0m \u001b[0mweights\u001b[0m \u001b[0;34m=\u001b[0m \u001b[0mcross_validation_ridge\u001b[0m\u001b[0;34m(\u001b[0m\u001b[0my\u001b[0m\u001b[0;34m[\u001b[0m\u001b[0mjet_tX\u001b[0m\u001b[0;34m[\u001b[0m\u001b[0mi\u001b[0m\u001b[0;34m]\u001b[0m\u001b[0;34m]\u001b[0m\u001b[0;34m,\u001b[0m \u001b[0mpreprocessed_tX\u001b[0m\u001b[0;34m,\u001b[0m \u001b[0mlambdas\u001b[0m\u001b[0;34m[\u001b[0m\u001b[0mj\u001b[0m\u001b[0;34m]\u001b[0m\u001b[0;34m,\u001b[0m \u001b[0mdegree\u001b[0m\u001b[0;34m)\u001b[0m\u001b[0;34m\u001b[0m\u001b[0;34m\u001b[0m\u001b[0m\n\u001b[0m\u001b[1;32m     33\u001b[0m         \u001b[0maccs\u001b[0m\u001b[0;34m[\u001b[0m\u001b[0mi\u001b[0m\u001b[0;34m,\u001b[0m\u001b[0;34m:\u001b[0m\u001b[0;34m,\u001b[0m\u001b[0mj\u001b[0m\u001b[0;34m]\u001b[0m\u001b[0;34m=\u001b[0m\u001b[0macc\u001b[0m\u001b[0;34m\u001b[0m\u001b[0;34m\u001b[0m\u001b[0m\n\u001b[1;32m     34\u001b[0m         \u001b[0mtrainlosses\u001b[0m\u001b[0;34m[\u001b[0m\u001b[0mi\u001b[0m\u001b[0;34m,\u001b[0m\u001b[0;34m:\u001b[0m\u001b[0;34m,\u001b[0m\u001b[0mj\u001b[0m\u001b[0;34m]\u001b[0m\u001b[0;34m=\u001b[0m\u001b[0mtrainloss\u001b[0m\u001b[0;34m\u001b[0m\u001b[0;34m\u001b[0m\u001b[0m\n",
      "\u001b[0;32m~/Documents/machinelearning/mlproj1/MLproj1/scripts/cross_validation.py\u001b[0m in \u001b[0;36mcross_validation_ridge\u001b[0;34m(y, tX, lambda_, degree)\u001b[0m\n\u001b[1;32m    177\u001b[0m         \u001b[0;31m# form data with polynomial degree\u001b[0m\u001b[0;34m\u001b[0m\u001b[0;34m\u001b[0m\u001b[0;34m\u001b[0m\u001b[0m\n\u001b[1;32m    178\u001b[0m         \u001b[0mxtestpol\u001b[0m\u001b[0;34m=\u001b[0m\u001b[0mbuild_poly\u001b[0m\u001b[0;34m(\u001b[0m\u001b[0mxtest\u001b[0m\u001b[0;34m,\u001b[0m\u001b[0mdegree\u001b[0m\u001b[0;34m)\u001b[0m\u001b[0;34m\u001b[0m\u001b[0;34m\u001b[0m\u001b[0m\n\u001b[0;32m--> 179\u001b[0;31m         \u001b[0mxtrainpol\u001b[0m\u001b[0;34m=\u001b[0m\u001b[0mbuild_poly\u001b[0m\u001b[0;34m(\u001b[0m\u001b[0mxtrain\u001b[0m\u001b[0;34m,\u001b[0m\u001b[0mdegree\u001b[0m\u001b[0;34m)\u001b[0m\u001b[0;34m\u001b[0m\u001b[0;34m\u001b[0m\u001b[0m\n\u001b[0m\u001b[1;32m    180\u001b[0m \u001b[0;34m\u001b[0m\u001b[0m\n\u001b[1;32m    181\u001b[0m         \u001b[0;31m# ridge regression:\u001b[0m\u001b[0;34m\u001b[0m\u001b[0;34m\u001b[0m\u001b[0;34m\u001b[0m\u001b[0m\n",
      "\u001b[0;32m~/Documents/machinelearning/mlproj1/MLproj1/scripts/data_preprocessing.py\u001b[0m in \u001b[0;36mbuild_poly\u001b[0;34m(x, degree)\u001b[0m\n\u001b[1;32m     66\u001b[0m     \u001b[0mpoly\u001b[0m \u001b[0;34m=\u001b[0m \u001b[0mnp\u001b[0m\u001b[0;34m.\u001b[0m\u001b[0mones\u001b[0m\u001b[0;34m(\u001b[0m\u001b[0;34m(\u001b[0m\u001b[0mlen\u001b[0m\u001b[0;34m(\u001b[0m\u001b[0mx\u001b[0m\u001b[0;34m)\u001b[0m\u001b[0;34m,\u001b[0m \u001b[0;36m1\u001b[0m\u001b[0;34m)\u001b[0m\u001b[0;34m)\u001b[0m\u001b[0;34m\u001b[0m\u001b[0;34m\u001b[0m\u001b[0m\n\u001b[1;32m     67\u001b[0m     \u001b[0;32mfor\u001b[0m \u001b[0mdeg\u001b[0m \u001b[0;32min\u001b[0m \u001b[0mrange\u001b[0m\u001b[0;34m(\u001b[0m\u001b[0;36m1\u001b[0m\u001b[0;34m,\u001b[0m \u001b[0mdegree\u001b[0m \u001b[0;34m+\u001b[0m \u001b[0;36m1\u001b[0m\u001b[0;34m)\u001b[0m\u001b[0;34m:\u001b[0m\u001b[0;34m\u001b[0m\u001b[0;34m\u001b[0m\u001b[0m\n\u001b[0;32m---> 68\u001b[0;31m         \u001b[0mpoly\u001b[0m \u001b[0;34m=\u001b[0m \u001b[0mnp\u001b[0m\u001b[0;34m.\u001b[0m\u001b[0mc_\u001b[0m\u001b[0;34m[\u001b[0m\u001b[0mpoly\u001b[0m\u001b[0;34m,\u001b[0m \u001b[0mnp\u001b[0m\u001b[0;34m.\u001b[0m\u001b[0mpower\u001b[0m\u001b[0;34m(\u001b[0m\u001b[0mx\u001b[0m\u001b[0;34m,\u001b[0m \u001b[0mdeg\u001b[0m\u001b[0;34m)\u001b[0m\u001b[0;34m]\u001b[0m\u001b[0;34m\u001b[0m\u001b[0;34m\u001b[0m\u001b[0m\n\u001b[0m\u001b[1;32m     69\u001b[0m     \u001b[0;32mreturn\u001b[0m \u001b[0mpoly\u001b[0m\u001b[0;34m\u001b[0m\u001b[0;34m\u001b[0m\u001b[0m\n\u001b[1;32m     70\u001b[0m \u001b[0;34m\u001b[0m\u001b[0m\n",
      "\u001b[0;32m~/anaconda3/lib/python3.6/site-packages/numpy/lib/index_tricks.py\u001b[0m in \u001b[0;36m__getitem__\u001b[0;34m(self, key)\u001b[0m\n\u001b[1;32m    338\u001b[0m                 \u001b[0mobjs\u001b[0m\u001b[0;34m[\u001b[0m\u001b[0mk\u001b[0m\u001b[0;34m]\u001b[0m \u001b[0;34m=\u001b[0m \u001b[0mobjs\u001b[0m\u001b[0;34m[\u001b[0m\u001b[0mk\u001b[0m\u001b[0;34m]\u001b[0m\u001b[0;34m.\u001b[0m\u001b[0mastype\u001b[0m\u001b[0;34m(\u001b[0m\u001b[0mfinal_dtype\u001b[0m\u001b[0;34m)\u001b[0m\u001b[0;34m\u001b[0m\u001b[0;34m\u001b[0m\u001b[0m\n\u001b[1;32m    339\u001b[0m \u001b[0;34m\u001b[0m\u001b[0m\n\u001b[0;32m--> 340\u001b[0;31m         \u001b[0mres\u001b[0m \u001b[0;34m=\u001b[0m \u001b[0mself\u001b[0m\u001b[0;34m.\u001b[0m\u001b[0mconcatenate\u001b[0m\u001b[0;34m(\u001b[0m\u001b[0mtuple\u001b[0m\u001b[0;34m(\u001b[0m\u001b[0mobjs\u001b[0m\u001b[0;34m)\u001b[0m\u001b[0;34m,\u001b[0m \u001b[0maxis\u001b[0m\u001b[0;34m=\u001b[0m\u001b[0maxis\u001b[0m\u001b[0;34m)\u001b[0m\u001b[0;34m\u001b[0m\u001b[0;34m\u001b[0m\u001b[0m\n\u001b[0m\u001b[1;32m    341\u001b[0m \u001b[0;34m\u001b[0m\u001b[0m\n\u001b[1;32m    342\u001b[0m         \u001b[0;32mif\u001b[0m \u001b[0mmatrix\u001b[0m\u001b[0;34m:\u001b[0m\u001b[0;34m\u001b[0m\u001b[0;34m\u001b[0m\u001b[0m\n",
      "\u001b[0;31mKeyboardInterrupt\u001b[0m: "
     ]
    }
   ],
   "source": [
    "import numpy as np\n",
    "from implementations import *\n",
    "from cross_validation import *\n",
    "from data_preprocessing import *\n",
    "from proj1_helpers import *\n",
    "import matplotlib.pyplot as plt\n",
    "import math\n",
    "\n",
    "print('loading data'+\"\\n\")\n",
    "DATA_TEST_PATH = '../data/train.csv'\n",
    "y,tX,ids = load_csv_data(DATA_TEST_PATH)\n",
    "print('data loaded')\n",
    "\n",
    "numpoints=9\n",
    "kfold=5\n",
    "\n",
    "accs=np.empty((3,kfold,numpoints))\n",
    "trainlosses=np.empty((3,kfold,numpoints))\n",
    "jet_tX = jet(tX)\n",
    "\n",
    "means=[]\n",
    "devs=[]\n",
    "\n",
    "degree = 13\n",
    "lambdas=np.logspace(-7,2,num=numpoints)\n",
    "#cleans -999 and standardizes\n",
    "for i in range(len(jet_tX)):\n",
    "    \n",
    "    preprocessed_tX = preprocess_data(tX[jet_tX[i]])\n",
    "    \n",
    "    for j in range(len(lambdas)):\n",
    "        acc, testloss, trainloss, weights = cross_validation_ridge(y[jet_tX[i]], preprocessed_tX, lambdas[j], degree)\n",
    "        accs[i,:,j]=acc\n",
    "        trainlosses[i,:,j]=trainloss\n",
    "\n",
    "print(\"done\")"
   ]
  },
  {
   "cell_type": "code",
   "execution_count": 9,
   "metadata": {},
   "outputs": [
    {
     "data": {
      "image/png": "[encoded data removed]",
      "text/plain": [
       "<matplotlib.figure.Figure at 0x109d1ee10>"
      ]
     },
     "metadata": {},
     "output_type": "display_data"
    }
   ],
   "source": [
    "fig1, ax1 = plt.subplots()\n",
    "ax1.boxplot(accs[0])\n",
    "plt.show()"
   ]
  },
  {
   "cell_type": "code",
   "execution_count": 10,
   "metadata": {},
   "outputs": [
    {
     "data": {
      "image/png": "[encoded data removed]",
      "text/plain": [
       "<matplotlib.figure.Figure at 0x137d61c50>"
      ]
     },
     "metadata": {},
     "output_type": "display_data"
    }
   ],
   "source": [
    "fig1, ax1 = plt.subplots()\n",
    "ax1.boxplot(trainlosses[0])\n",
    "plt.show()"
   ]
  },
  {
   "cell_type": "code",
   "execution_count": null,
   "metadata": {
    "collapsed": true
   },
   "outputs": [],
   "source": []
  }
 ],
 "metadata": {
  "kernelspec": {
   "display_name": "Python 3",
   "language": "python",
   "name": "python3"
  },
  "language_info": {
   "codemirror_mode": {
    "name": "ipython",
    "version": 3
   },
   "file_extension": ".py",
   "mimetype": "text/x-python",
   "name": "python",
   "nbconvert_exporter": "python",
   "pygments_lexer": "ipython3",
   "version": "3.6.8"
  }
 },
 "nbformat": 4,
 "nbformat_minor": 2
}
