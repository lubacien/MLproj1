{
 "cells": [
  {
   "cell_type": "code",
   "execution_count": 1,
   "metadata": {
    "scrolled": true
   },
   "outputs": [
    {
     "name": "stdout",
     "output_type": "stream",
     "text": [
      "loading data\n",
      "\n",
      "data loaded\n"
     ]
    }
   ],
   "source": [
    "import numpy as np\n",
    "from implementations import *\n",
    "from cross_validation import *\n",
    "from data_preprocessing import *\n",
    "from proj1_helpers import *\n",
    "import math\n",
    "\n",
    "print('loading data'+\"\\n\")\n",
    "DATA_TEST_PATH = '../data/train.csv'\n",
    "y,tX,ids = load_csv_data(DATA_TEST_PATH)\n",
    "print('data loaded')\n",
    "\n",
    "jet_set = jet(tX)\n",
    "inds = create_inds(jet_set, False)\n",
    "\n",
    "data_sets = jet_split(tX,inds)\n",
    "y_sets = split_y(y,inds)\n"
   ]
  },
  {
   "cell_type": "code",
   "execution_count": 2,
   "metadata": {
    "collapsed": true
   },
   "outputs": [],
   "source": []
  },
  {
   "cell_type": "code",
   "execution_count": 3,
   "metadata": {
    "collapsed": true
   },
   "outputs": [],
   "source": []
  },
  {
   "cell_type": "code",
   "execution_count": 5,
   "metadata": {
    "collapsed": true
   },
   "outputs": [],
   "source": []
  },
  {
   "cell_type": "code",
   "execution_count": 4,
   "metadata": {
    "collapsed": true
   },
   "outputs": [],
   "source": [
    "for i in range(len(data_sets)):\n",
    "    data_sets[i] = replace_aberrant_values(data_sets[i])\n",
    "    data_sets[i] = standardize(data_sets[i])\n"
   ]
  },
  {
   "cell_type": "code",
   "execution_count": 8,
   "metadata": {
    "collapsed": true
   },
   "outputs": [],
   "source": [
    "matrix = [[1, 1, 1, 1, 1]]\n",
    "weights_ = []\n",
    "losses = []\n",
    "lambda_= np.logspace(1, -8, num = 10)\n",
    "degree = np.linspace(1,10, num = 9, dtype = int)\n",
    "\n",
    "for lam in lambda_:\n",
    "    for deg in degree:       \n",
    "        for data_set, y_set in zip(data_sets, y_sets):\n",
    "            test_error, train_error = cross_validation_ridge(y_set, data_set, lam, deg, 0.8)\n",
    "            losses.append(test_error)\n",
    "            #losses.append(train_error)\n",
    "        matrix = np.append(matrix, [[lam, deg, losses[0], losses[1], losses[2]]], axis = 0)\n",
    "        losses = []"
   ]
  },
  {
   "cell_type": "code",
   "execution_count": 6,
   "metadata": {
    "scrolled": true
   },
   "outputs": [
    {
     "name": "stdout",
     "output_type": "stream",
     "text": [
      "test error = 0.392296076148\n",
      "train error = 0.39200767659\n",
      "test error = 0.414327763742\n",
      "train error = 0.413139532295\n",
      "test error = 0.369247095985\n",
      "train error = 0.366028873276\n"
     ]
    }
   ],
   "source": [
    "weights=[]\n",
    "test_error, train_error, w1 = cross_validation_for_leastsquares(y_sets[0], data_sets[0],0.8)\n",
    "weights.append(w1)\n",
    "test_error, train_error, w2 = cross_validation_for_leastsquares(y_sets[1], data_sets[1],0.8)\n",
    "weights.append(w2)\n",
    "test_error, train_error, w3 = cross_validation_for_leastsquares(y_sets[2], data_sets[2],0.8)\n",
    "weights.append(w3)\n"
   ]
  },
  {
   "cell_type": "code",
   "execution_count": 8,
   "metadata": {
    "collapsed": true,
    "scrolled": true
   },
   "outputs": [],
   "source": [
    "\n",
    "DATA_TEST_PATH = '../data/test.csv'\n",
    "_, tX_test, ids_test = load_csv_data(DATA_TEST_PATH)\n",
    "y_preds = predict_merge(tX_test,weights)\n",
    "OUTPUT_PATH = '../data/submission_splitt.csv'\n",
    "create_csv_submission(ids_test, y_preds, OUTPUT_PATH)"
   ]
  },
  {
   "cell_type": "code",
   "execution_count": 13,
   "metadata": {
    "scrolled": true
   },
   "outputs": [
    {
     "data": {
      "text/plain": [
       "array([0.1       , 2.        , 0.42176892, 0.47214813, 0.49712175])"
      ]
     },
     "execution_count": 13,
     "metadata": {},
     "output_type": "execute_result"
    }
   ],
   "source": [
    "matrix[20]"
   ]
  },
  {
   "cell_type": "code",
   "execution_count": 14,
   "metadata": {
    "scrolled": true
   },
   "outputs": [
    {
     "data": {
      "text/plain": [
       "array([1.00000000e-05, 2.00000000e+00, 4.26361599e-01, 4.74731921e-01,\n",
       "       4.95908475e-01])"
      ]
     },
     "execution_count": 14,
     "metadata": {},
     "output_type": "execute_result"
    }
   ],
   "source": [
    "matrix[56]"
   ]
  },
  {
   "cell_type": "code",
   "execution_count": null,
   "metadata": {
    "collapsed": true
   },
   "outputs": [],
   "source": []
  }
 ],
 "metadata": {
  "kernelspec": {
   "display_name": "Python 3",
   "language": "python",
   "name": "python3"
  },
  "language_info": {
   "codemirror_mode": {
    "name": "ipython",
    "version": 3
   },
   "file_extension": ".py",
   "mimetype": "text/x-python",
   "name": "python",
   "nbconvert_exporter": "python",
   "pygments_lexer": "ipython3",
   "version": "3.6.8"
  }
 },
 "nbformat": 4,
 "nbformat_minor": 2
}
