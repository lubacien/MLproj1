{
 "cells": [
  {
   "cell_type": "code",
   "execution_count": 16,
   "metadata": {
    "scrolled": true
   },
   "outputs": [
    {
     "name": "stdout",
     "output_type": "stream",
     "text": [
      "loading data\n",
      "\n",
      "data loaded\n"
     ]
    }
   ],
   "source": [
    "import numpy as np\n",
    "from implementations import *\n",
    "from cross_validation import *\n",
    "from data_preprocessing import *\n",
    "from proj1_helpers import *\n",
    "import math\n",
    "\n",
    "print('loading data'+\"\\n\")\n",
    "DATA_TEST_PATH = '../data/train.csv'\n",
    "y,tX,ids = load_csv_data(DATA_TEST_PATH)\n",
    "print('data loaded')\n",
    "\n",
    "jet_set = jet(tX)\n",
    "inds = create_inds(jet_set, False)\n",
    "\n",
    "data_sets = jet_split(tX,inds)\n",
    "y_sets = split_y(y,inds)"
   ]
  },
  {
   "cell_type": "code",
   "execution_count": 19,
   "metadata": {},
   "outputs": [],
   "source": [
    "def cross_validation(y, tX, lambda_, degree, ratio):\n",
    "    \n",
    "    for i in range(int(1/(1-ratio))):\n",
    "\n",
    "        xtrain, ytrain, xtest, ytest = split_data(tX, y, ratio)\n",
    "\n",
    "        weights_ = []\n",
    "        trainlosses = []\n",
    "        testlosses = []\n",
    "\n",
    "        data_set=build_poly(xtrain,degree)\n",
    "        data_set_test=build_poly(xtest,degree)\n",
    "\n",
    "        w, loss = ridge_regression(ytrain,data_set,lambda_)\n",
    "\n",
    "        weights_.append(w)\n",
    "        trainlosses.append(loss)\n",
    "        testlosses.append(compute_loss(ytest,data_set_test,w))\n",
    "            \n",
    "    print(\"test error =\",np.mean(testlosses))\n",
    "    print(\"train error =\", np.mean(trainlosses))\n",
    "\n",
    "    return np.mean(testlosses), np.mean(trainlosses)"
   ]
  },
  {
   "cell_type": "code",
   "execution_count": 20,
   "metadata": {},
   "outputs": [
    {
     "ename": "TypeError",
     "evalue": "'numpy.float64' object cannot be interpreted as an integer",
     "output_type": "error",
     "traceback": [
      "\u001b[1;31m---------------------------------------------------------------------------\u001b[0m",
      "\u001b[1;31mTypeError\u001b[0m                                 Traceback (most recent call last)",
      "\u001b[1;32m<ipython-input-20-b65b5800bc93>\u001b[0m in \u001b[0;36m<module>\u001b[1;34m\u001b[0m\n\u001b[0;32m      8\u001b[0m     \u001b[1;32mfor\u001b[0m \u001b[0mdeg\u001b[0m \u001b[1;32min\u001b[0m \u001b[0mdegree\u001b[0m\u001b[1;33m:\u001b[0m\u001b[1;33m\u001b[0m\u001b[1;33m\u001b[0m\u001b[0m\n\u001b[0;32m      9\u001b[0m         \u001b[1;32mfor\u001b[0m \u001b[0mdata_set\u001b[0m\u001b[1;33m,\u001b[0m \u001b[0my_set\u001b[0m \u001b[1;32min\u001b[0m \u001b[0mzip\u001b[0m\u001b[1;33m(\u001b[0m\u001b[0mdata_sets\u001b[0m\u001b[1;33m,\u001b[0m \u001b[0my_sets\u001b[0m\u001b[1;33m)\u001b[0m\u001b[1;33m:\u001b[0m\u001b[1;33m\u001b[0m\u001b[1;33m\u001b[0m\u001b[0m\n\u001b[1;32m---> 10\u001b[1;33m             \u001b[0mtest_error\u001b[0m\u001b[1;33m,\u001b[0m \u001b[0mtrain_error\u001b[0m \u001b[1;33m=\u001b[0m \u001b[0mcross_validation\u001b[0m\u001b[1;33m(\u001b[0m\u001b[0my_set\u001b[0m\u001b[1;33m,\u001b[0m \u001b[0mdata_set\u001b[0m\u001b[1;33m,\u001b[0m \u001b[0mdeg\u001b[0m\u001b[1;33m,\u001b[0m \u001b[0mlam\u001b[0m\u001b[1;33m,\u001b[0m \u001b[1;36m0.8\u001b[0m\u001b[1;33m)\u001b[0m\u001b[1;33m\u001b[0m\u001b[1;33m\u001b[0m\u001b[0m\n\u001b[0m\u001b[0;32m     11\u001b[0m             \u001b[0mlosses\u001b[0m\u001b[1;33m.\u001b[0m\u001b[0mappend\u001b[0m\u001b[1;33m(\u001b[0m\u001b[0mtest_error\u001b[0m\u001b[1;33m,\u001b[0m \u001b[0mtrain_error\u001b[0m\u001b[1;33m)\u001b[0m\u001b[1;33m\u001b[0m\u001b[1;33m\u001b[0m\u001b[0m\n\u001b[0;32m     12\u001b[0m \u001b[1;33m\u001b[0m\u001b[0m\n",
      "\u001b[1;32m<ipython-input-19-d8e1c47750dc>\u001b[0m in \u001b[0;36mcross_validation\u001b[1;34m(y, tX, lambda_, degree, ratio)\u001b[0m\n\u001b[0;32m      9\u001b[0m         \u001b[0mtestlosses\u001b[0m \u001b[1;33m=\u001b[0m \u001b[1;33m[\u001b[0m\u001b[1;33m]\u001b[0m\u001b[1;33m\u001b[0m\u001b[1;33m\u001b[0m\u001b[0m\n\u001b[0;32m     10\u001b[0m \u001b[1;33m\u001b[0m\u001b[0m\n\u001b[1;32m---> 11\u001b[1;33m         \u001b[0mdata_set\u001b[0m\u001b[1;33m=\u001b[0m\u001b[0mbuild_poly\u001b[0m\u001b[1;33m(\u001b[0m\u001b[0mxtrain\u001b[0m\u001b[1;33m,\u001b[0m\u001b[0mdegree\u001b[0m\u001b[1;33m)\u001b[0m\u001b[1;33m\u001b[0m\u001b[1;33m\u001b[0m\u001b[0m\n\u001b[0m\u001b[0;32m     12\u001b[0m         \u001b[0mdata_set_test\u001b[0m\u001b[1;33m=\u001b[0m\u001b[0mbuild_poly\u001b[0m\u001b[1;33m(\u001b[0m\u001b[0mxtest\u001b[0m\u001b[1;33m,\u001b[0m\u001b[0mdegree\u001b[0m\u001b[1;33m)\u001b[0m\u001b[1;33m\u001b[0m\u001b[1;33m\u001b[0m\u001b[0m\n\u001b[0;32m     13\u001b[0m \u001b[1;33m\u001b[0m\u001b[0m\n",
      "\u001b[1;32m~\\Documents\\MASTER 1\\Machine Learning\\Projet\\MLproj1\\scripts\\implementations.py\u001b[0m in \u001b[0;36mbuild_poly\u001b[1;34m(x, degree)\u001b[0m\n\u001b[0;32m     40\u001b[0m     \u001b[1;31m# ***************************************************\u001b[0m\u001b[1;33m\u001b[0m\u001b[1;33m\u001b[0m\u001b[1;33m\u001b[0m\u001b[0m\n\u001b[0;32m     41\u001b[0m     \u001b[0mphi\u001b[0m\u001b[1;33m=\u001b[0m\u001b[1;33m[\u001b[0m\u001b[1;33m]\u001b[0m\u001b[1;33m\u001b[0m\u001b[1;33m\u001b[0m\u001b[0m\n\u001b[1;32m---> 42\u001b[1;33m     \u001b[1;32mfor\u001b[0m \u001b[0mj\u001b[0m \u001b[1;32min\u001b[0m \u001b[0mrange\u001b[0m\u001b[1;33m(\u001b[0m\u001b[0mdegree\u001b[0m\u001b[1;33m+\u001b[0m\u001b[1;36m1\u001b[0m\u001b[1;33m)\u001b[0m\u001b[1;33m:\u001b[0m\u001b[1;33m\u001b[0m\u001b[1;33m\u001b[0m\u001b[0m\n\u001b[0m\u001b[0;32m     43\u001b[0m         \u001b[0mphi\u001b[0m\u001b[1;33m.\u001b[0m\u001b[0mappend\u001b[0m\u001b[1;33m(\u001b[0m\u001b[0mx\u001b[0m\u001b[1;33m**\u001b[0m\u001b[0mj\u001b[0m\u001b[1;33m)\u001b[0m\u001b[1;33m\u001b[0m\u001b[1;33m\u001b[0m\u001b[0m\n\u001b[0;32m     44\u001b[0m     \u001b[0mphi\u001b[0m\u001b[1;33m=\u001b[0m\u001b[0mnp\u001b[0m\u001b[1;33m.\u001b[0m\u001b[0mreshape\u001b[0m\u001b[1;33m(\u001b[0m\u001b[0mphi\u001b[0m\u001b[1;33m,\u001b[0m\u001b[1;33m(\u001b[0m\u001b[0mx\u001b[0m\u001b[1;33m.\u001b[0m\u001b[0mshape\u001b[0m\u001b[1;33m[\u001b[0m\u001b[1;36m0\u001b[0m\u001b[1;33m]\u001b[0m\u001b[1;33m,\u001b[0m\u001b[1;33m-\u001b[0m\u001b[1;36m1\u001b[0m\u001b[1;33m)\u001b[0m\u001b[1;33m)\u001b[0m\u001b[1;33m\u001b[0m\u001b[1;33m\u001b[0m\u001b[0m\n",
      "\u001b[1;31mTypeError\u001b[0m: 'numpy.float64' object cannot be interpreted as an integer"
     ]
    }
   ],
   "source": [
    "matrix = [[3, 3, 3, 3, 3, 3, 3, 3]]\n",
    "weights_ = []\n",
    "losses = []\n",
    "lambda_= np.linspace(0, 1, num = 3)\n",
    "degree = np.linspace(1, 10, num = 10, dtype = int)\n",
    "\n",
    "for lam in lambda_:\n",
    "    for deg in degree:\n",
    "        for data_set, y_set in zip(data_sets, y_sets):\n",
    "            test_error, train_error = cross_validation(y_set, data_set, deg, lam, 0.8)\n",
    "            losses.append(test_error, train_error)\n",
    "            \n",
    "        matrix = np.append(matrix, [[lam, deg, losses[0], losses[1], losses[2], losses[3], losses[4], losses[5]]], axis = 0)"
   ]
  },
  {
   "cell_type": "code",
   "execution_count": 4,
   "metadata": {},
   "outputs": [
    {
     "data": {
      "text/plain": [
       "array([[0.00000000e+00, 0.00000000e+00, 0.00000000e+00, 0.00000000e+00,\n",
       "        0.00000000e+00],\n",
       "       [0.00000000e+00, 1.00000000e+00, 3.80172870e-01, 4.59259354e-01,\n",
       "        4.94090199e-01],\n",
       "       [0.00000000e+00, 2.00000000e+00, 3.92601846e-01, 4.65416292e-01,\n",
       "        4.94111674e-01],\n",
       "       [0.00000000e+00, 3.00000000e+00, 4.18872343e-01, 4.70691311e-01,\n",
       "        4.94354598e-01],\n",
       "       [0.00000000e+00, 4.00000000e+00, 4.50497395e-01, 4.74499092e-01,\n",
       "        4.93909000e-01],\n",
       "       [0.00000000e+00, 5.00000000e+00, 4.56433544e-01, 4.76616008e-01,\n",
       "        4.93850446e-01],\n",
       "       [0.00000000e+00, 6.00000000e+00, 4.72593535e-01, 4.78051016e-01,\n",
       "        4.93627338e-01],\n",
       "       [0.00000000e+00, 7.00000000e+00, 3.79143283e+00, 4.79686605e-01,\n",
       "        4.93295292e-01],\n",
       "       [0.00000000e+00, 8.00000000e+00, 8.42173304e-01, 4.80469629e-01,\n",
       "        4.93345469e-01],\n",
       "       [0.00000000e+00, 9.00000000e+00, 8.70704954e+05, 4.81912494e-01,\n",
       "        4.93372206e-01],\n",
       "       [0.00000000e+00, 1.00000000e+01, 4.98497195e-01, 4.85659755e-01,\n",
       "        4.93141314e-01],\n",
       "       [5.00000000e-01, 1.00000000e+00, 3.89674624e-01, 4.62095052e-01,\n",
       "        4.94492282e-01],\n",
       "       [5.00000000e-01, 2.00000000e+00, 4.01345585e-01, 4.67320913e-01,\n",
       "        4.94792693e-01],\n",
       "       [5.00000000e-01, 3.00000000e+00, 4.19902518e-01, 4.72145867e-01,\n",
       "        4.94953403e-01],\n",
       "       [5.00000000e-01, 4.00000000e+00, 4.50695093e-01, 4.76707997e-01,\n",
       "        4.94591039e-01],\n",
       "       [5.00000000e-01, 5.00000000e+00, 4.56482967e-01, 4.77809691e-01,\n",
       "        4.94540551e-01],\n",
       "       [5.00000000e-01, 6.00000000e+00, 4.72612596e-01, 4.79148108e-01,\n",
       "        4.94340479e-01],\n",
       "       [5.00000000e-01, 7.00000000e+00, 5.15295823e+01, 4.80188516e-01,\n",
       "        4.93998203e-01],\n",
       "       [5.00000000e-01, 8.00000000e+00, 2.02958539e+01, 4.80832740e-01,\n",
       "        4.94144206e-01],\n",
       "       [5.00000000e-01, 9.00000000e+00, 6.22285623e+05, 4.82058451e-01,\n",
       "        4.94240760e-01],\n",
       "       [5.00000000e-01, 1.00000000e+01, 4.98498327e-01, 4.85760745e-01,\n",
       "        4.93925327e-01],\n",
       "       [1.00000000e+00, 1.00000000e+00, 3.94769505e-01, 4.63598825e-01,\n",
       "        4.94665638e-01],\n",
       "       [1.00000000e+00, 2.00000000e+00, 4.06017977e-01, 4.68451364e-01,\n",
       "        4.95026429e-01],\n",
       "       [1.00000000e+00, 3.00000000e+00, 4.20791583e-01, 4.72973600e-01,\n",
       "        4.95206556e-01],\n",
       "       [1.00000000e+00, 4.00000000e+00, 4.50859518e-01, 4.78095015e-01,\n",
       "        4.94932600e-01],\n",
       "       [1.00000000e+00, 5.00000000e+00, 4.56528880e-01, 4.78736608e-01,\n",
       "        4.94876500e-01],\n",
       "       [1.00000000e+00, 6.00000000e+00, 4.72629664e-01, 4.80066338e-01,\n",
       "        4.94679413e-01],\n",
       "       [1.00000000e+00, 7.00000000e+00, 1.31090237e+01, 4.80647888e-01,\n",
       "        4.94314623e-01],\n",
       "       [1.00000000e+00, 8.00000000e+00, 3.08787609e+01, 4.81174901e-01,\n",
       "        4.94468607e-01],\n",
       "       [1.00000000e+00, 9.00000000e+00, 9.92808174e+06, 4.82200415e-01,\n",
       "        4.94612149e-01],\n",
       "       [1.00000000e+00, 1.00000000e+01, 4.98499526e-01, 4.85859810e-01,\n",
       "        4.94261979e-01]])"
      ]
     },
     "execution_count": 4,
     "metadata": {},
     "output_type": "execute_result"
    }
   ],
   "source": [
    "matrix"
   ]
  }
 ],
 "metadata": {
  "kernelspec": {
   "display_name": "Python 3",
   "language": "python",
   "name": "python3"
  },
  "language_info": {
   "codemirror_mode": {
    "name": "ipython",
    "version": 3
   },
   "file_extension": ".py",
   "mimetype": "text/x-python",
   "name": "python",
   "nbconvert_exporter": "python",
   "pygments_lexer": "ipython3",
   "version": "3.7.1"
  }
 },
 "nbformat": 4,
 "nbformat_minor": 2
}
