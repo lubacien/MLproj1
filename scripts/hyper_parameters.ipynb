{
 "cells": [
  {
   "cell_type": "code",
   "execution_count": 145,
   "metadata": {
    "scrolled": true
   },
   "outputs": [
    {
     "name": "stdout",
     "output_type": "stream",
     "text": [
      "loading data\n",
      "\n",
      "data loaded\n"
     ]
    }
   ],
   "source": [
    "import numpy as np\n",
    "from implementations import *\n",
    "from cross_validation import *\n",
    "from data_preprocessing import *\n",
    "from proj1_helpers import *\n",
    "import math\n",
    "\n",
    "print('loading data'+\"\\n\")\n",
    "DATA_TEST_PATH = '../data/train.csv'\n",
    "y,tX,ids = load_csv_data(DATA_TEST_PATH)\n",
    "print('data loaded')\n",
    "\n",
    "jet_set = jet(tX)\n",
    "inds = create_inds(jet_set, False)\n",
    "\n",
    "data_sets = jet_split(tX,inds)\n",
    "y_sets = split_y(y,inds)"
   ]
  },
  {
   "cell_type": "code",
   "execution_count": 146,
   "metadata": {},
   "outputs": [],
   "source": [
    "def replace_aberrant_values(tX):\n",
    "    '''Replaces the aberrant value (-999) for a given feature \n",
    "    and  replaces it by the mean observed value of that feature.'''\n",
    "    tX_repl_feat = np.copy(tX)\n",
    "    means = []\n",
    "    \n",
    "    #compute the mean of each feature (column) without taking -999 values into account\n",
    "    for j in range(tX_repl_feat.shape[1]):\n",
    "        m = tX_repl_feat[:,j][tX_repl_feat[:,j] != -999].mean()\n",
    "        means.append(m)\n",
    "    \n",
    "    #change all -999 values of a column by the mean computed previously\n",
    "    for i in range(len(means)):\n",
    "        mask = tX_repl_feat[:, i] == -999\n",
    "        tX_repl_feat[:, i][mask] = means[i]\n",
    "    \n",
    "    return tX_repl_feat"
   ]
  },
  {
   "cell_type": "code",
   "execution_count": 147,
   "metadata": {},
   "outputs": [],
   "source": [
    "def standardize(x):\n",
    "\n",
    "    centered_data = x - np.mean(x, axis=0)\n",
    "    std_data = centered_data / np.std(centered_data, axis=0)\n",
    "    \n",
    "    return std_data"
   ]
  },
  {
   "cell_type": "code",
   "execution_count": 148,
   "metadata": {},
   "outputs": [],
   "source": [
    "def cross_validation(y, tX, lambda_, degree, ratio):\n",
    "    \n",
    "    for i in range(int(1/(1-ratio))):\n",
    "\n",
    "        xtrain, ytrain, xtest, ytest = split_data(tX, y, ratio)\n",
    "        \n",
    "        weights_ = []\n",
    "        trainlosses = []\n",
    "        testlosses = []\n",
    "\n",
    "        data_set=build_poly(xtrain,degree)\n",
    "        data_set_test=build_poly(xtest,degree)\n",
    "\n",
    "        w, loss = ridge_regression(ytrain,data_set,lambda_)\n",
    "\n",
    "        weights_.append(w)\n",
    "        trainlosses.append(loss)\n",
    "        testlosses.append(compute_loss(ytest,data_set_test,w))\n",
    "            \n",
    "    #print(\"test error =\",np.mean(testlosses))\n",
    "    #print(\"train error =\", np.mean(trainlosses))\n",
    "\n",
    "    return np.mean(testlosses), np.mean(trainlosses)"
   ]
  },
  {
   "cell_type": "code",
   "execution_count": 149,
   "metadata": {},
   "outputs": [
    {
     "name": "stdout",
     "output_type": "stream",
     "text": [
      "hello\n",
      "hello\n",
      "hello\n"
     ]
    }
   ],
   "source": [
    "for i in range(len(data_sets)):\n",
    "    data_sets[i] = replace_aberrant_values(data_sets[i])\n",
    "    data_sets[i] = standardize(data_sets[i])\n",
    "    print('hello')"
   ]
  },
  {
   "cell_type": "code",
   "execution_count": 154,
   "metadata": {},
   "outputs": [
    {
     "data": {
      "text/plain": [
       "array([], dtype=int64)"
      ]
     },
     "execution_count": 154,
     "metadata": {},
     "output_type": "execute_result"
    }
   ],
   "source": [
    "np.where(data_sets[0] == -999)[0]"
   ]
  },
  {
   "cell_type": "code",
   "execution_count": null,
   "metadata": {},
   "outputs": [],
   "source": [
    "matrix = [[1, 1, 1, 1, 1]]\n",
    "weights_ = []\n",
    "losses = []\n",
    "lambda_= np.logspace(1, -8, num = 10)\n",
    "degree = np.linspace(0,10, num = 10, dtype = int)\n",
    "\n",
    "for lam in lambda_:\n",
    "    for deg in degree:       \n",
    "        for data_set, y_set in zip(data_sets, y_sets):\n",
    "            test_error, train_error = cross_validation(y_set, data_set, lam, deg, 0.8)\n",
    "            losses.append(test_error)\n",
    "            #losses.append(train_error)\n",
    "        matrix = np.append(matrix, [[lam, deg, losses[0], losses[1], losses[2]]], axis = 0)\n"
   ]
  }
 ],
 "metadata": {
  "kernelspec": {
   "display_name": "Python 3",
   "language": "python",
   "name": "python3"
  },
  "language_info": {
   "codemirror_mode": {
    "name": "ipython",
    "version": 3
   },
   "file_extension": ".py",
   "mimetype": "text/x-python",
   "name": "python",
   "nbconvert_exporter": "python",
   "pygments_lexer": "ipython3",
   "version": "3.7.1"
  }
 },
 "nbformat": 4,
 "nbformat_minor": 2
}
