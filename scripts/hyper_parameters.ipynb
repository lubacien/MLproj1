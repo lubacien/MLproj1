{
 "cells": [
  {
   "cell_type": "code",
   "execution_count": 1,
   "metadata": {
    "scrolled": true
   },
   "outputs": [
    {
     "name": "stdout",
     "output_type": "stream",
     "text": [
      "loading data\n",
      "\n",
      "data loaded\n"
     ]
    }
   ],
   "source": [
    "import numpy as np\n",
    "from implementations import *\n",
    "from cross_validation import *\n",
    "from data_preprocessing import *\n",
    "from proj1_helpers import *\n",
    "import math\n",
    "\n",
    "print('loading data'+\"\\n\")\n",
    "DATA_TEST_PATH = '../data/train.csv'\n",
    "y,tX,ids = load_csv_data(DATA_TEST_PATH)\n",
    "print('data loaded')\n",
    "\n",
    "jet_set = jet(tX)\n",
    "inds = create_inds(jet_set, False)\n",
    "\n",
    "data_sets = jet_split(tX,inds)\n",
    "y_sets = split_y(y,inds)\n"
   ]
  },
  {
   "cell_type": "code",
   "execution_count": 2,
   "metadata": {
    "collapsed": true
   },
   "outputs": [],
   "source": [
    "def replace_aberrant_values(tX):\n",
    "    '''Replaces the aberrant value (-999) for a given feature \n",
    "    and  replaces it by the mean observed value of that feature.'''\n",
    "    tX_repl_feat = np.copy(tX)\n",
    "    means = []\n",
    "    \n",
    "    #compute the mean of each feature (column) without taking -999 values into account\n",
    "    for j in range(tX_repl_feat.shape[1]):\n",
    "        m = tX_repl_feat[:,j][tX_repl_feat[:,j] != -999].mean()\n",
    "        means.append(m)\n",
    "    \n",
    "    #change all -999 values of a column by the mean computed previously\n",
    "    for i in range(len(means)):\n",
    "        mask = tX_repl_feat[:, i] == -999\n",
    "        tX_repl_feat[:, i][mask] = means[i]\n",
    "    \n",
    "    return tX_repl_feat"
   ]
  },
  {
   "cell_type": "code",
   "execution_count": 3,
   "metadata": {
    "collapsed": true
   },
   "outputs": [],
   "source": [
    "def standardize(x):\n",
    "\n",
    "    centered_data = x - np.mean(x, axis=0)\n",
    "    std_data = centered_data / np.std(centered_data, axis=0)\n",
    "\n",
    "    return std_data\n",
    "\n",
    "\n"
   ]
  },
  {
   "cell_type": "code",
   "execution_count": 5,
   "metadata": {
    "collapsed": true
   },
   "outputs": [],
   "source": []
  },
  {
   "cell_type": "code",
   "execution_count": 4,
   "metadata": {},
   "outputs": [
    {
     "name": "stdout",
     "output_type": "stream",
     "text": [
      "hello\n",
      "hello\n",
      "hello\n"
     ]
    }
   ],
   "source": [
    "for i in range(len(data_sets)):\n",
    "    data_sets[i] = replace_aberrant_values(data_sets[i])\n",
    "    data_sets[i] = standardize(data_sets[i])\n",
    "    print('hello')\n"
   ]
  },
  {
   "cell_type": "code",
   "execution_count": 8,
   "metadata": {
    "collapsed": true
   },
   "outputs": [],
   "source": [
    "matrix = [[1, 1, 1, 1, 1]]\n",
    "weights_ = []\n",
    "losses = []\n",
    "lambda_= np.logspace(1, -8, num = 10)\n",
    "degree = np.linspace(1,10, num = 9, dtype = int)\n",
    "\n",
    "for lam in lambda_:\n",
    "    for deg in degree:       \n",
    "        for data_set, y_set in zip(data_sets, y_sets):\n",
    "            test_error, train_error = cross_validation_ridge(y_set, data_set, lam, deg, 0.8)\n",
    "            losses.append(test_error)\n",
    "            #losses.append(train_error)\n",
    "        matrix = np.append(matrix, [[lam, deg, losses[0], losses[1], losses[2]]], axis = 0)\n",
    "        losses = []"
   ]
  },
  {
   "cell_type": "code",
   "execution_count": 5,
   "metadata": {
    "scrolled": true
   },
   "outputs": [
    {
     "name": "stdout",
     "output_type": "stream",
     "text": [
      "test error = 0.390681806415\n",
      "train error = 0.392493654691\n",
      "test error = 0.410611359601\n",
      "train error = 0.414068213049\n",
      "test error = 0.367630142644\n",
      "train error = 0.36643623309\n"
     ]
    }
   ],
   "source": [
    "test_error, train_error = cross_validation_for_leastsquares(y_sets[0], data_sets[0],0.8)\n",
    "test_error, train_error = cross_validation_for_leastsquares(y_sets[1], data_sets[1],0.8)\n",
    "test_error, train_error = cross_validation_for_leastsquares(y_sets[2], data_sets[2],0.8)"
   ]
  },
  {
   "cell_type": "code",
   "execution_count": 12,
   "metadata": {
    "scrolled": true
   },
   "outputs": [
    {
     "data": {
      "text/plain": [
       "array([1.00000000e-04, 2.00000000e+00, 4.21682077e-01, 4.74182192e-01,\n",
       "       4.95914865e-01])"
      ]
     },
     "execution_count": 12,
     "metadata": {},
     "output_type": "execute_result"
    }
   ],
   "source": [
    "matrix[47]"
   ]
  },
  {
   "cell_type": "code",
   "execution_count": 13,
   "metadata": {
    "scrolled": true
   },
   "outputs": [
    {
     "data": {
      "text/plain": [
       "array([0.1       , 2.        , 0.42176892, 0.47214813, 0.49712175])"
      ]
     },
     "execution_count": 13,
     "metadata": {},
     "output_type": "execute_result"
    }
   ],
   "source": [
    "matrix[20]"
   ]
  },
  {
   "cell_type": "code",
   "execution_count": 14,
   "metadata": {
    "scrolled": true
   },
   "outputs": [
    {
     "data": {
      "text/plain": [
       "array([1.00000000e-05, 2.00000000e+00, 4.26361599e-01, 4.74731921e-01,\n",
       "       4.95908475e-01])"
      ]
     },
     "execution_count": 14,
     "metadata": {},
     "output_type": "execute_result"
    }
   ],
   "source": [
    "matrix[56]"
   ]
  },
  {
   "cell_type": "code",
   "execution_count": null,
   "metadata": {
    "collapsed": true
   },
   "outputs": [],
   "source": []
  }
 ],
 "metadata": {
  "kernelspec": {
   "display_name": "Python 3",
   "language": "python",
   "name": "python3"
  },
  "language_info": {
   "codemirror_mode": {
    "name": "ipython",
    "version": 3
   },
   "file_extension": ".py",
   "mimetype": "text/x-python",
   "name": "python",
   "nbconvert_exporter": "python",
   "pygments_lexer": "ipython3",
   "version": "3.6.8"
  }
 },
 "nbformat": 4,
 "nbformat_minor": 2
}
