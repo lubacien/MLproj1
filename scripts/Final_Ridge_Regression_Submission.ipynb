{
 "cells": [
  {
   "cell_type": "code",
   "execution_count": 3,
   "metadata": {},
   "outputs": [],
   "source": [
    "import numpy as np\n",
    "from implementations import *\n",
    "from cross_validation import *\n",
    "from data_preprocessing import *\n",
    "from proj1_helpers import *\n",
    "import math"
   ]
  },
  {
   "cell_type": "code",
   "execution_count": 6,
   "metadata": {
    "scrolled": true
   },
   "outputs": [
    {
     "name": "stdout",
     "output_type": "stream",
     "text": [
      "loading training data\n",
      "\n",
      "training data loaded\n",
      "\n",
      "loading test data\n",
      "\n",
      "test data loaded\n",
      "\n"
     ]
    }
   ],
   "source": [
    "print('loading training data'+\"\\n\")\n",
    "DATA_TEST_PATH = '../data/train.csv'\n",
    "y,tX,ids = load_csv_data(DATA_TEST_PATH)\n",
    "print('training data loaded'+\"\\n\")\n",
    "\n",
    "print('loading test data'+\"\\n\")\n",
    "DATA_TEST_PATH = '../data/test.csv'\n",
    "_, tX_test, ids_test = load_csv_data(DATA_TEST_PATH)\n",
    "print('test data loaded'+\"\\n\")"
   ]
  },
  {
   "cell_type": "code",
   "execution_count": 12,
   "metadata": {},
   "outputs": [
    {
     "name": "stdout",
     "output_type": "stream",
     "text": [
      "loading training data\n",
      "\n",
      "training data loaded\n",
      "\n",
      "loading test data\n",
      "\n",
      "test data loaded\n",
      "\n"
     ]
    }
   ],
   "source": [
    "print('loading training data'+\"\\n\")\n",
    "DATA_TEST_PATH = '../data/train.csv'\n",
    "y,tX,ids = load_csv_data(DATA_TEST_PATH)\n",
    "print('training data loaded'+\"\\n\")\n",
    "\n",
    "print('loading test data'+\"\\n\")\n",
    "DATA_TEST_PATH = '../data/test.csv'\n",
    "_, tX_test, ids_test = load_csv_data(DATA_TEST_PATH)\n",
    "print('test data loaded'+\"\\n\")\n"
   ]
  },
  {
   "cell_type": "code",
   "execution_count": 13,
   "metadata": {},
   "outputs": [
    {
     "name": "stdout",
     "output_type": "stream",
     "text": [
      "dataset:0, loss = 0.22983290582512098\n",
      "dataset:1, loss = 0.2880624138169795\n",
      "dataset:2, loss = 0.2620268559830584\n",
      "[-1.  0. -1. ...  1.  0. -1.]\n",
      "[-1. -1. -1. ...  1. -1. -1.]\n",
      "[-1. -1. -1. ...  1. -1. -1.]\n"
     ]
    }
   ],
   "source": [
    "\n",
    "#generate the dictionnaries for each jet number subset\n",
    "jet_tX = jet(tX)\n",
    "jet_tX_test = jet(tX_test)\n",
    "\n",
    "lambdas = [0.0001, 0.001, 0.001]\n",
    "degrees = [12, 12, 12]\n",
    "\n",
    "weights = []\n",
    "\n",
    "y_pred = np.zeros(tX_test.shape[0])\n",
    "\n",
    "#get the weights of ridge regression ran on each train subset\n",
    "for i in range(len(jet_tX)):\n",
    "    \n",
    "    #preprocess every train subset\n",
    "    preprocessed_tX = preprocess_data(tX[jet_tX[i]])\n",
    "    \n",
    "    #build polynomial expansion on train subset\n",
    "    tX_poly = build_poly(preprocessed_tX, degrees[i])\n",
    "    \n",
    "    #run ridge regression on train subset\n",
    "    w, loss = ridge_regression(y[jet_tX[i]], tX_poly, lambdas[i])\n",
    "    \n",
    "    weights.append(w)\n",
    "    print(\"dataset:{num}, loss = {l}\".format(num = i, l = loss))\n",
    "    \n",
    "#generate the predictions on each test subset using the computed weight\n",
    "for j in range(len(jet_tX_test)):\n",
    "    \n",
    "    #preprocess every test subset\n",
    "    preprocessed_tX_test = preprocess_data(tX_test[jet_tX_test[j]])\n",
    "    \n",
    "    #build polynomial expansion on test subset\n",
    "    tX_test_poly = build_poly(preprocessed_tX_test, degrees[j])\n",
    "    \n",
    "    #use weights to compute the predictions\n",
    "    y_pred = predict_merge(tX_test_poly, weights[j], y_pred, jet_tX_test[j])\n",
    "    \n",
    "    \n",
    "OUTPUT_PATH = '../data/submission_ff.csv'\n",
    "create_csv_submission(ids_test, y_pred, OUTPUT_PATH)"
   ]
  },
  {
   "cell_type": "code",
   "execution_count": null,
   "metadata": {},
   "outputs": [],
   "source": []
  }
 ],
 "metadata": {
  "kernelspec": {
   "display_name": "Python 3",
   "language": "python",
   "name": "python3"
  },
  "language_info": {
   "codemirror_mode": {
    "name": "ipython",
    "version": 3
   },
   "file_extension": ".py",
   "mimetype": "text/x-python",
   "name": "python",
   "nbconvert_exporter": "python",
   "pygments_lexer": "ipython3",
   "version": "3.7.3"
  }
 },
 "nbformat": 4,
 "nbformat_minor": 4
}
